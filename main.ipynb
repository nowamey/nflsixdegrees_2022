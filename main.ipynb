{
 "cells": [
  {
   "cell_type": "code",
   "execution_count": 11,
   "metadata": {},
   "outputs": [],
   "source": [
    "from Graph import Graph\n",
    "\n",
    "# initialize graph\n",
    "graph = Graph()"
   ]
  },
  {
   "cell_type": "code",
   "execution_count": 12,
   "metadata": {},
   "outputs": [],
   "source": [
    "import pandas as pd\n",
    "\n",
    "# helper function to add a group of connected players to graph\n",
    "# typical usage: sending an array of players on the same team\n",
    "def addPlayersToGraph(graph, players):\n",
    "    numPlayers = len(players)\n",
    "\n",
    "    # iterate through each player\n",
    "    for i in range(0, numPlayers):\n",
    "        player0 = players[i]\n",
    "\n",
    "        # add connections to all players that aren't the 'player0'\n",
    "        for j in range(i + 1, numPlayers):\n",
    "            player1 = players[j]\n",
    "            graph.addNeighbor(player0, player1)\n",
    "\n",
    "players = []\n",
    "\n",
    "# read all csv files containing players and place into a graph\n",
    "end_year = 2003\n",
    "for year in range(2002, end_year + 1):\n",
    "    df = pd.read_csv(f\"player_data/nfl_players_data_{year}.csv\")\n",
    "\n",
    "    teams = {}\n",
    "\n",
    "    # add each player to team\n",
    "    for row in df.iterrows():\n",
    "        content = row[1]\n",
    "        team = content[\"team\"]\n",
    "\n",
    "        if teams.get(team) == None:\n",
    "            teams[team] = []\n",
    "            \n",
    "        teams[team].append(content[\"playerid\"])\n",
    "        players.append(content[\"playerid\"])\n",
    "\n",
    "    # fill in teams\n",
    "    for team in teams:\n",
    "        addPlayersToGraph(graph, teams[team])"
   ]
  },
  {
   "cell_type": "code",
   "execution_count": 13,
   "metadata": {},
   "outputs": [],
   "source": [
    "graph.to_graphml()"
   ]
  },
  {
   "cell_type": "code",
   "execution_count": 27,
   "metadata": {},
   "outputs": [
    {
     "data": {
      "image/png": "[encoded data removed]",
      "text/plain": [
       "<Figure size 640x480 with 1 Axes>"
      ]
     },
     "metadata": {},
     "output_type": "display_data"
    }
   ],
   "source": [
    "import random\n",
    "import matplotlib.pyplot as plt\n",
    "\n",
    "# find distance between two players based on id\n",
    "def get_path_between_players(player0, player1):\n",
    "    return graph.bfs(player0, player1)\n",
    "\n",
    "avg_length = 0\n",
    "num_samples = 500\n",
    "\n",
    "seen_connections = set()\n",
    "paths = []\n",
    "\n",
    "for _ in range(num_samples):\n",
    "    # continue searching for compatible players\n",
    "    p1, p2 = random.choice(players), random.choice(players)\n",
    "    while (p1, p2) in seen_connections or (p2, p1) in seen_connections:\n",
    "        p1, p2 = random.choice(players), random.choice(players)\n",
    "\n",
    "    # add to seen connections\n",
    "    seen_connections.add((p1, p2))\n",
    "\n",
    "    # add to seen paths\n",
    "    path = get_path_between_players(\n",
    "        p1, p2\n",
    "    )\n",
    "    paths.append(len(path))\n",
    "\n",
    "# graph the paths\n",
    "freq = {}\n",
    "for i in paths:\n",
    "    freq[i] = freq.get(i, 0) + 1\n",
    "freq = dict(sorted(freq.items()))\n",
    "\n",
    "# Plot the bar graph\n",
    "plt.bar(freq.keys(), freq.values())\n",
    "plt.xlabel('Path Length')\n",
    "plt.ylabel('Frequency')\n",
    "plt.title('Length of Paths in the NFL')\n",
    "plt.show()\n"
   ]
  }
 ],
 "metadata": {
  "kernelspec": {
   "display_name": "Python 3",
   "language": "python",
   "name": "python3"
  },
  "language_info": {
   "codemirror_mode": {
    "name": "ipython",
    "version": 3
   },
   "file_extension": ".py",
   "mimetype": "text/x-python",
   "name": "python",
   "nbconvert_exporter": "python",
   "pygments_lexer": "ipython3",
   "version": "3.8.10"
  },
  "orig_nbformat": 4
 },
 "nbformat": 4,
 "nbformat_minor": 2
}
