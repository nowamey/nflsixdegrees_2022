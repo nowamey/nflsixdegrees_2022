{
 "cells": [
  {
   "cell_type": "code",
   "execution_count": 10,
   "metadata": {},
   "outputs": [
    {
     "ename": "JSONDecodeError",
     "evalue": "Expecting value: line 1 column 1 (char 0)",
     "output_type": "error",
     "traceback": [
      "\u001b[1;31m---------------------------------------------------------------------------\u001b[0m",
      "\u001b[1;31mJSONDecodeError\u001b[0m                           Traceback (most recent call last)",
      "File \u001b[1;32mc:\\Users\\nowam\\AppData\\Local\\Programs\\Python\\Python310\\lib\\site-packages\\requests\\models.py:971\u001b[0m, in \u001b[0;36mResponse.json\u001b[1;34m(self, **kwargs)\u001b[0m\n\u001b[0;32m    970\u001b[0m \u001b[39mtry\u001b[39;00m:\n\u001b[1;32m--> 971\u001b[0m     \u001b[39mreturn\u001b[39;00m complexjson\u001b[39m.\u001b[39mloads(\u001b[39mself\u001b[39m\u001b[39m.\u001b[39mtext, \u001b[39m*\u001b[39m\u001b[39m*\u001b[39mkwargs)\n\u001b[0;32m    972\u001b[0m \u001b[39mexcept\u001b[39;00m JSONDecodeError \u001b[39mas\u001b[39;00m e:\n\u001b[0;32m    973\u001b[0m     \u001b[39m# Catch JSON-related errors and raise as requests.JSONDecodeError\u001b[39;00m\n\u001b[0;32m    974\u001b[0m     \u001b[39m# This aliases json.JSONDecodeError and simplejson.JSONDecodeError\u001b[39;00m\n",
      "File \u001b[1;32mc:\\Users\\nowam\\AppData\\Local\\Programs\\Python\\Python310\\lib\\json\\__init__.py:346\u001b[0m, in \u001b[0;36mloads\u001b[1;34m(s, cls, object_hook, parse_float, parse_int, parse_constant, object_pairs_hook, **kw)\u001b[0m\n\u001b[0;32m    343\u001b[0m \u001b[39mif\u001b[39;00m (\u001b[39mcls\u001b[39m \u001b[39mis\u001b[39;00m \u001b[39mNone\u001b[39;00m \u001b[39mand\u001b[39;00m object_hook \u001b[39mis\u001b[39;00m \u001b[39mNone\u001b[39;00m \u001b[39mand\u001b[39;00m\n\u001b[0;32m    344\u001b[0m         parse_int \u001b[39mis\u001b[39;00m \u001b[39mNone\u001b[39;00m \u001b[39mand\u001b[39;00m parse_float \u001b[39mis\u001b[39;00m \u001b[39mNone\u001b[39;00m \u001b[39mand\u001b[39;00m\n\u001b[0;32m    345\u001b[0m         parse_constant \u001b[39mis\u001b[39;00m \u001b[39mNone\u001b[39;00m \u001b[39mand\u001b[39;00m object_pairs_hook \u001b[39mis\u001b[39;00m \u001b[39mNone\u001b[39;00m \u001b[39mand\u001b[39;00m \u001b[39mnot\u001b[39;00m kw):\n\u001b[1;32m--> 346\u001b[0m     \u001b[39mreturn\u001b[39;00m _default_decoder\u001b[39m.\u001b[39;49mdecode(s)\n\u001b[0;32m    347\u001b[0m \u001b[39mif\u001b[39;00m \u001b[39mcls\u001b[39m \u001b[39mis\u001b[39;00m \u001b[39mNone\u001b[39;00m:\n",
      "File \u001b[1;32mc:\\Users\\nowam\\AppData\\Local\\Programs\\Python\\Python310\\lib\\json\\decoder.py:337\u001b[0m, in \u001b[0;36mJSONDecoder.decode\u001b[1;34m(self, s, _w)\u001b[0m\n\u001b[0;32m    333\u001b[0m \u001b[39m\u001b[39m\u001b[39m\"\"\"Return the Python representation of ``s`` (a ``str`` instance\u001b[39;00m\n\u001b[0;32m    334\u001b[0m \u001b[39mcontaining a JSON document).\u001b[39;00m\n\u001b[0;32m    335\u001b[0m \n\u001b[0;32m    336\u001b[0m \u001b[39m\"\"\"\u001b[39;00m\n\u001b[1;32m--> 337\u001b[0m obj, end \u001b[39m=\u001b[39m \u001b[39mself\u001b[39;49m\u001b[39m.\u001b[39;49mraw_decode(s, idx\u001b[39m=\u001b[39;49m_w(s, \u001b[39m0\u001b[39;49m)\u001b[39m.\u001b[39;49mend())\n\u001b[0;32m    338\u001b[0m end \u001b[39m=\u001b[39m _w(s, end)\u001b[39m.\u001b[39mend()\n",
      "File \u001b[1;32mc:\\Users\\nowam\\AppData\\Local\\Programs\\Python\\Python310\\lib\\json\\decoder.py:355\u001b[0m, in \u001b[0;36mJSONDecoder.raw_decode\u001b[1;34m(self, s, idx)\u001b[0m\n\u001b[0;32m    354\u001b[0m \u001b[39mexcept\u001b[39;00m \u001b[39mStopIteration\u001b[39;00m \u001b[39mas\u001b[39;00m err:\n\u001b[1;32m--> 355\u001b[0m     \u001b[39mraise\u001b[39;00m JSONDecodeError(\u001b[39m\"\u001b[39m\u001b[39mExpecting value\u001b[39m\u001b[39m\"\u001b[39m, s, err\u001b[39m.\u001b[39mvalue) \u001b[39mfrom\u001b[39;00m \u001b[39mNone\u001b[39m\n\u001b[0;32m    356\u001b[0m \u001b[39mreturn\u001b[39;00m obj, end\n",
      "\u001b[1;31mJSONDecodeError\u001b[0m: Expecting value: line 1 column 1 (char 0)",
      "\nDuring handling of the above exception, another exception occurred:\n",
      "\u001b[1;31mJSONDecodeError\u001b[0m                           Traceback (most recent call last)",
      "Cell \u001b[1;32mIn[10], line 36\u001b[0m\n\u001b[0;32m     34\u001b[0m         df\u001b[39m.\u001b[39mloc[\u001b[39mlen\u001b[39m(df\u001b[39m.\u001b[39mindex)] \u001b[39m=\u001b[39m row\n\u001b[0;32m     35\u001b[0m     \u001b[39mreturn\u001b[39;00m df\n\u001b[1;32m---> 36\u001b[0m \u001b[39mprint\u001b[39m(addtenures(\u001b[39m1181319\u001b[39;49m)\u001b[39m.\u001b[39mhead())\n",
      "Cell \u001b[1;32mIn[10], line 20\u001b[0m, in \u001b[0;36maddtenures\u001b[1;34m(player_id)\u001b[0m\n\u001b[0;32m     14\u001b[0m     url \u001b[39m=\u001b[39m \u001b[39mf\u001b[39m\u001b[39m\"\u001b[39m\u001b[39mhttps://basketapi1.p.rapidapi.com/api/basketball/player/\u001b[39m\u001b[39m{\u001b[39;00mplayer_id\u001b[39m}\u001b[39;00m\u001b[39m/transfers\u001b[39m\u001b[39m\"\u001b[39m\n\u001b[0;32m     16\u001b[0m     headers \u001b[39m=\u001b[39m {\n\u001b[0;32m     17\u001b[0m \t    \u001b[39m\"\u001b[39m\u001b[39mX-RapidAPI-Key\u001b[39m\u001b[39m\"\u001b[39m: \u001b[39m\"\u001b[39m\u001b[39me0259fc1a8mshf3acbf6e3c99144p15e1edjsnb6ad953c45df\u001b[39m\u001b[39m\"\u001b[39m,\n\u001b[0;32m     18\u001b[0m \t    \u001b[39m\"\u001b[39m\u001b[39mX-RapidAPI-Host\u001b[39m\u001b[39m\"\u001b[39m: \u001b[39m\"\u001b[39m\u001b[39mbasketapi1.p.rapidapi.com\u001b[39m\u001b[39m\"\u001b[39m\n\u001b[0;32m     19\u001b[0m     }\n\u001b[1;32m---> 20\u001b[0m     response \u001b[39m=\u001b[39m (requests\u001b[39m.\u001b[39;49mrequest(\u001b[39m\"\u001b[39;49m\u001b[39mGET\u001b[39;49m\u001b[39m\"\u001b[39;49m, url, headers\u001b[39m=\u001b[39;49mheaders))\u001b[39m.\u001b[39;49mjson()\n\u001b[0;32m     21\u001b[0m     \u001b[39m#print(trade['fromTeamName'],trade['toTeamName'],datetime.datetime.fromtimestamp(trade['transferDateTimestamp']))\u001b[39;00m\n\u001b[0;32m     22\u001b[0m     \u001b[39mprint\u001b[39m(response)\n",
      "File \u001b[1;32mc:\\Users\\nowam\\AppData\\Local\\Programs\\Python\\Python310\\lib\\site-packages\\requests\\models.py:975\u001b[0m, in \u001b[0;36mResponse.json\u001b[1;34m(self, **kwargs)\u001b[0m\n\u001b[0;32m    971\u001b[0m     \u001b[39mreturn\u001b[39;00m complexjson\u001b[39m.\u001b[39mloads(\u001b[39mself\u001b[39m\u001b[39m.\u001b[39mtext, \u001b[39m*\u001b[39m\u001b[39m*\u001b[39mkwargs)\n\u001b[0;32m    972\u001b[0m \u001b[39mexcept\u001b[39;00m JSONDecodeError \u001b[39mas\u001b[39;00m e:\n\u001b[0;32m    973\u001b[0m     \u001b[39m# Catch JSON-related errors and raise as requests.JSONDecodeError\u001b[39;00m\n\u001b[0;32m    974\u001b[0m     \u001b[39m# This aliases json.JSONDecodeError and simplejson.JSONDecodeError\u001b[39;00m\n\u001b[1;32m--> 975\u001b[0m     \u001b[39mraise\u001b[39;00m RequestsJSONDecodeError(e\u001b[39m.\u001b[39mmsg, e\u001b[39m.\u001b[39mdoc, e\u001b[39m.\u001b[39mpos)\n",
      "\u001b[1;31mJSONDecodeError\u001b[0m: Expecting value: line 1 column 1 (char 0)"
     ]
    }
   ],
   "source": [
    "import json\n",
    "import requests\n",
    "import datetime\n",
    "import pandas as pd\n",
    "import numpy as np\n",
    "dinwiddie_tenures =  pd.DataFrame(columns=['team','start','end'])\n",
    "url = f\"https://basketapi1.p.rapidapi.com/api/basketball/player/817065/transfers\"\n",
    "\n",
    "\n",
    "def addtenures(player_id):\n",
    "    # end --> NaN signifies current team\n",
    "    df = pd.DataFrame(columns = ['player_id','player_name','team',\"start\",\"end\"])\n",
    "    #search tenures of the given player\n",
    "    url = f\"https://basketapi1.p.rapidapi.com/api/basketball/player/{player_id}/transfers\"\n",
    "\n",
    "    headers = {\n",
    "\t    \"X-RapidAPI-Key\": \"e0259fc1a8mshf3acbf6e3c99144p15e1edjsnb6ad953c45df\",\n",
    "\t    \"X-RapidAPI-Host\": \"basketapi1.p.rapidapi.com\"\n",
    "    }\n",
    "    response = (requests.request(\"GET\", url, headers=headers)).json()\n",
    "    #print(trade['fromTeamName'],trade['toTeamName'],datetime.datetime.fromtimestamp(trade['transferDateTimestamp']))\n",
    "    print(response == None)\n",
    "    return\n",
    "    hist = response['transferHistory']\n",
    "    \n",
    "    return\n",
    "    for i,trade in enumerate(hist):\n",
    "        #current team - meaning no end date\n",
    "        if(i == 0):\n",
    "            row = [player_id,trade['player']['name'], trade['toTeamName'],datetime.date.fromtimestamp(trade['transferDateTimestamp']),np.NaN]\n",
    "        #previous teams\n",
    "        else:\n",
    "            row = [player_id, trade['player']['name'], trade['toTeamName'],datetime.date.fromtimestamp(trade['transferDateTimestamp']),datetime.date.fromtimestamp(hist[i-1]['transferDateTimestamp'])]\n",
    "        df.loc[len(df.index)] = row\n",
    "    return df\n",
    "print(addtenures(1181319).head())"
   ]
  }
 ],
 "metadata": {
  "kernelspec": {
   "display_name": "Python 3",
   "language": "python",
   "name": "python3"
  },
  "language_info": {
   "codemirror_mode": {
    "name": "ipython",
    "version": 3
   },
   "file_extension": ".py",
   "mimetype": "text/x-python",
   "name": "python",
   "nbconvert_exporter": "python",
   "pygments_lexer": "ipython3",
   "version": "3.10.0"
  },
  "orig_nbformat": 4
 },
 "nbformat": 4,
 "nbformat_minor": 2
}
