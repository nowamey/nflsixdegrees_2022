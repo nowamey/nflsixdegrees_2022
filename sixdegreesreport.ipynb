{
 "cells": [
  {
   "attachments": {},
   "cell_type": "markdown",
   "metadata": {},
   "source": [
    "<h1>Six-Degrees of The NBA: Report</h1>\n",
    "\n",
    "\n",
    "    "
   ]
  },
  {
   "cell_type": "code",
   "execution_count": 1,
   "metadata": {},
   "outputs": [],
   "source": [
    "import requests\n",
    "import time\n",
    "import pandas as pd \n",
    "import numpy as np\n",
    "import datetime"
   ]
  },
  {
   "attachments": {},
   "cell_type": "markdown",
   "metadata": {},
   "source": [
    "# Introduction\n",
    "\n",
    "For our presentation, we have decided to take on the concept of “Six Degrees of Kevin Bacon”, and apply it to the NBA to see how connected all of the current players are. Every edge in our graph of connections symbolizes two players having played on the same team at the same time. Our goal is to create a graphic visualization to obtain a collection of scenarios from the use of our data while analyzing the average length of connection between players.\n"
   ]
  },
  {
   "attachments": {},
   "cell_type": "markdown",
   "metadata": {},
   "source": [
    "<h2>Retrieval and Preprocessing</h2>\n",
    "\n",
    "    To retrieve our data from the BasketAPI, We retrieved an authentication key from RapidAPI. The api holds many different categories of basketball data at an international scale, with players and teams referenced all by their own unique id\n",
    "    \n",
    "\n",
    "    To get started with our data retrieval, we knew we needed to get a list of all of the active players and their unique ids from the API. Along with that, we needed to be able to connect player ids to some form of record of their history with teams. This resulted in us making two get requests. One the player data of every active player, in which we added all entries into a dataframe mapping id to name. The second get request was done once we had all of the player id’s, where we searched the transaction history for every player id. This gave us date ranges for every player's tenure with each team they have been with in their career. With this, we could build out our graph, making edges signifying that a pair of players were on the same team at the same time.\n",
    "\n",
    "    *One edge case we encountered was players who have never been traded. In this case, we had to search their current team with a different API call.*\n",
    "\n",
    "    With this date information, We converted the end and start dates to datetime objects to be properly compared with one another.\n",
    "\n",
    "\n"
   ]
  },
  {
   "cell_type": "code",
   "execution_count": 2,
   "metadata": {},
   "outputs": [],
   "source": [
    "#The following code will request every single active player in the nba by searching through every current team.\n",
    "\n",
    "def get_active_players():\n",
    "    nba_ids =  {x for x in range(3409,3438)}\n",
    "# New Orleans Pelicans are disjointed, presumably because of the name change\n",
    "    nba_ids.add(5539)\n",
    "    data =  pd.DataFrame(columns= ['id', 'name'])\n",
    "    data.set_index('id',inplace=True)\n",
    "    for teamid in range(3409,3438):\n",
    "        time.sleep(2)\n",
    "        url = f\"https://basketapi1.p.rapidapi.com/api/basketball/team/{teamid}/players\"\n",
    "\n",
    "        headers = {\n",
    "\t        \"X-RapidAPI-Key\": \"e0259fc1a8mshf3acbf6e3c99144p15e1edjsnb6ad953c45df\",\n",
    "\t        \"X-RapidAPI-Host\": \"basketapi1.p.rapidapi.com\"\n",
    "        }\n",
    "        response = (requests.request(\"GET\", url, headers=headers)).json()\n",
    "        #can access all players. Need to build a local mapping of ids for the players as we get them. Then go ahead, grab transfer history per id!\n",
    "        for player in response['players']:\n",
    "            player_id = player['player']['id']\n",
    "            player_name = player['player']['name']\n",
    "            print(player_id,player_name)\n",
    "            data.loc[player_id] = [player_name]\n",
    "    \n",
    "    data.to_csv('activeplayers_2023.csv')"
   ]
  },
  {
   "cell_type": "code",
   "execution_count": 5,
   "metadata": {},
   "outputs": [],
   "source": [
    "HEADERS =  {\n",
    "\t        \"X-RapidAPI-Key\": \"e0259fc1a8mshf3acbf6e3c99144p15e1edjsnb6ad953c45df\",\n",
    "\t        \"X-RapidAPI-Host\": \"basketapi1.p.rapidapi.com\"\n",
    "        }\n",
    "def get_players_history(ids):\n",
    "    #passed the index of the player dataframe, calls api to assemble a comprehensive df of trade history, and append it to the \n",
    "    #history dataframe\n",
    "    data = pd.DataFrame(columns = ['player_id','player_name','team',\"start\",\"end\"])\n",
    "    for id in ids:\n",
    "        try:\n",
    "            data =  pd.concat([data,addtenures(id)])\n",
    "        #rookies seem to have no transaction data, this was a workaround for that issue\n",
    "        except ValueError:\n",
    "            #incase of an id without trades, we will fill in history with just their current team\n",
    "            url = f\"https://basketapi1.p.rapidapi.com/api/basketball/player/{id}\" \n",
    "            response = (requests.request(\"GET\", url, headers=HEADERS)).json()\n",
    "            row =  [id,response['player']['name'],response['player']['team']['name'],np.NaN,np.NaN]\n",
    "            print(row)\n",
    "            data.loc[id] = row\n",
    "    data.to_csv('active_player_histories.csv')\n",
    "\n",
    "def addtenures(player_id):\n",
    "    # end --> NaN signifies current team\n",
    "    df = pd.DataFrame(columns = ['player_id','player_name','team',\"start\",\"end\"])\n",
    "    #search tenures of the given player\n",
    "    url = f\"https://basketapi1.p.rapidapi.com/api/basketball/player/{player_id}/transfers\"\n",
    "\n",
    "    headers = {\n",
    "\t    \"X-RapidAPI-Key\": \"e0259fc1a8mshf3acbf6e3c99144p15e1edjsnb6ad953c45df\",\n",
    "\t    \"X-RapidAPI-Host\": \"basketapi1.p.rapidapi.com\"\n",
    "    }\n",
    "    try:\n",
    "        response = (requests.request(\"GET\", url, headers=headers)).json()\n",
    "    except ValueError: \n",
    "        raise ValueError (f\"No response for playerid {player_id}\")\n",
    "    hist = response['transferHistory']\n",
    "    \n",
    "\n",
    "    for i,trade in enumerate(hist):\n",
    "        #current team - meaning no end date\n",
    "        if(i == 0):\n",
    "            row = [player_id,trade['player']['name'], trade['toTeamName'],datetime.date.fromtimestamp(trade['transferDateTimestamp']),np.NaN]\n",
    "        #previous teams\n",
    "        else:\n",
    "            row = [player_id, trade['player']['name'], trade['toTeamName'],datetime.date.fromtimestamp(trade['transferDateTimestamp']),datetime.date.fromtimestamp(hist[i-1]['transferDateTimestamp'])]\n",
    "        df.loc[len(df.index)] = row\n",
    "    #terminal print to keep track of properly running requests\n",
    "    return df\n"
   ]
  },
  {
   "cell_type": "code",
   "execution_count": 6,
   "metadata": {},
   "outputs": [
    {
     "data": {
      "text/html": [
       "<div>\n",
       "<style scoped>\n",
       "    .dataframe tbody tr th:only-of-type {\n",
       "        vertical-align: middle;\n",
       "    }\n",
       "\n",
       "    .dataframe tbody tr th {\n",
       "        vertical-align: top;\n",
       "    }\n",
       "\n",
       "    .dataframe thead th {\n",
       "        text-align: right;\n",
       "    }\n",
       "</style>\n",
       "<table border=\"1\" class=\"dataframe\">\n",
       "  <thead>\n",
       "    <tr style=\"text-align: right;\">\n",
       "      <th></th>\n",
       "      <th>player_id</th>\n",
       "      <th>player_name</th>\n",
       "      <th>team</th>\n",
       "      <th>start</th>\n",
       "      <th>end</th>\n",
       "    </tr>\n",
       "  </thead>\n",
       "  <tbody>\n",
       "    <tr>\n",
       "      <th>0</th>\n",
       "      <td>817181</td>\n",
       "      <td>LeBron James</td>\n",
       "      <td>Los Angeles Lakers</td>\n",
       "      <td>2018-06-30</td>\n",
       "      <td>NaN</td>\n",
       "    </tr>\n",
       "    <tr>\n",
       "      <th>1</th>\n",
       "      <td>817181</td>\n",
       "      <td>LeBron James</td>\n",
       "      <td>Cleveland Cavaliers</td>\n",
       "      <td>2014-06-24</td>\n",
       "      <td>2018-06-30</td>\n",
       "    </tr>\n",
       "    <tr>\n",
       "      <th>2</th>\n",
       "      <td>817181</td>\n",
       "      <td>LeBron James</td>\n",
       "      <td>Miami Heat</td>\n",
       "      <td>2010-07-09</td>\n",
       "      <td>2014-06-24</td>\n",
       "    </tr>\n",
       "    <tr>\n",
       "      <th>3</th>\n",
       "      <td>817181</td>\n",
       "      <td>LeBron James</td>\n",
       "      <td>Cleveland Cavaliers</td>\n",
       "      <td>2003-06-25</td>\n",
       "      <td>2010-07-09</td>\n",
       "    </tr>\n",
       "  </tbody>\n",
       "</table>\n",
       "</div>"
      ],
      "text/plain": [
       "   player_id   player_name                 team       start         end\n",
       "0     817181  LeBron James   Los Angeles Lakers  2018-06-30         NaN\n",
       "1     817181  LeBron James  Cleveland Cavaliers  2014-06-24  2018-06-30\n",
       "2     817181  LeBron James           Miami Heat  2010-07-09  2014-06-24\n",
       "3     817181  LeBron James  Cleveland Cavaliers  2003-06-25  2010-07-09"
      ]
     },
     "execution_count": 6,
     "metadata": {},
     "output_type": "execute_result"
    }
   ],
   "source": [
    "addtenures(817181)"
   ]
  },
  {
   "attachments": {},
   "cell_type": "markdown",
   "metadata": {},
   "source": [
    "Our complete datasets were made with only these methods. Above is an example output of the player tenures for star player LeBron James"
   ]
  },
  {
   "attachments": {},
   "cell_type": "markdown",
   "metadata": {},
   "source": [
    "<h2>Results</h2>\n",
    "\n",
    "    With the exception of players that spent time as a free agent or were out of the league and returned, the degrees of separation ended up working quite well. For example, if we take the players Donovan Mitchell and Lebron James they would be 2 degrees separated, with the mutual connection being George Hill who was on the Jazz with Mitchell in 2017 and at Cleveland in 2018\n",
    "\n",
    "*Add graph query here*\n",
    "\n",
    "    A longer example would be for example Trent Forrest to Moses Moody who are 5 degrees separated (the longest we found in the NBA). Forrest was on the Atlanta Hawks in 2022 at the same time as Skylar Mays. Skylar Mays was on the Atlanta Hawks with Justin Holiday towards the tail end of 2022. Justin Holiday shared a team (Golden State Warriors) with Andre Iguadala between 2014-2015. And finally, Moses Moody is currently on the Warriors with Andre Iguadala.\n",
    "\n",
    "Add graph query here\n",
    "\n",
    "    Further to most NBA fans it is easy to intuit which players will end up where in the graph. Generally a lot of the players that spent time on a lot of different teams and travel around find themselves in the center of the graph while rookies and other players who have been on fewer teams are on the edges, giving validity to our code.\n"
   ]
  },
  {
   "attachments": {},
   "cell_type": "markdown",
   "metadata": {},
   "source": [
    "<h2>Discussion</h2>\n",
    "\n",
    "    The goal of our project was to find the closest path between two NBA players based on their former teams and teammates, similarly to Bacon’s Law. To create this, we made a graph that shows each of the connections in the NBA.\n",
    "\n",
    "    On this graph, the bigger the point is, the more connections that the player has. The graph shows that players such as Jeff Green, D.J. Augustin, and Justin Holiday have the biggest points, meaning that they have more connections. This would make sense because each of these three players have played for at least 11 teams meaning that they have had many different teammates throughout their careers.\n",
    "    We found that the most connections it would take between any two players is five. This proves that there is actually only 5 degrees of separation between any two players, proving Bacon’s Law of 6 degrees of separation. A point that can be made about the aforementioned longest example, both players are in their first couple years in the NBA, which limits the amount of teammates that they have played with, and makes it harder to find connections, making their degree of separation longer.\n",
    "\n",
    "    It would be interesting to look at this for other sports as well to determine what the maximum degrees of separation is in other pro leagues, and see if those other sports also have less than or equal to 6 degrees of separation at the maximum. \n"
   ]
  },
  {
   "attachments": {},
   "cell_type": "markdown",
   "metadata": {},
   "source": [
    "<h2>Limitations</h2>\n",
    "\n",
    "    The main limitation of this project is that we are only considering connections through active NBA players (as of 2023). This means we cannot search for connections between retired players and connections that exist between current and retired players are not considered in our analysis. The main reason for this was that our team decided that including retired player data would be too large of a dataset to wrangle. The active player dataset was already proving difficult for our team to visualize and adding players and edges to the graph was making our graph even harder to visualize. \n",
    "\n",
    "    Another issue that arises with our data is the way the NBA handles its drafts. When a player is drafted to a team our dataset automatically assigns that player to the team, but oftentimes a team will trade a player immediately after drafting them. This means we have player data in our dataset that includes players who were on a team for only 1 day. Our team decided that this data would still be considered when finding a path because the player was still technically on the same team with other players albeit for 1 day.\n"
   ]
  }
 ],
 "metadata": {
  "kernelspec": {
   "display_name": "Python 3",
   "language": "python",
   "name": "python3"
  },
  "language_info": {
   "codemirror_mode": {
    "name": "ipython",
    "version": 3
   },
   "file_extension": ".py",
   "mimetype": "text/x-python",
   "name": "python",
   "nbconvert_exporter": "python",
   "pygments_lexer": "ipython3",
   "version": "3.10.0"
  },
  "orig_nbformat": 4
 },
 "nbformat": 4,
 "nbformat_minor": 2
}
